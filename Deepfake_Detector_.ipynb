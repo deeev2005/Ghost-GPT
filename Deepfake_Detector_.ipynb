{
  "nbformat": 4,
  "nbformat_minor": 0,
  "metadata": {
    "colab": {
      "provenance": [],
      "authorship_tag": "ABX9TyPVCaUEsCjPGhjh9A9WLzLr",
      "include_colab_link": true
    },
    "kernelspec": {
      "name": "python3",
      "display_name": "Python 3"
    },
    "language_info": {
      "name": "python"
    }
  },
  "cells": [
    {
      "cell_type": "markdown",
      "metadata": {
        "id": "view-in-github",
        "colab_type": "text"
      },
      "source": [
        "<a href=\"https://colab.research.google.com/github/deeev2005/Ghost-GPT/blob/main/Deepfake_Detector_.ipynb\" target=\"_parent\"><img src=\"https://colab.research.google.com/assets/colab-badge.svg\" alt=\"Open In Colab\"/></a>"
      ]
    },
    {
      "cell_type": "code",
      "execution_count": 6,
      "metadata": {
        "id": "75D_nIkM3joQ",
        "colab": {
          "base_uri": "https://localhost:8080/",
          "height": 91
        },
        "outputId": "12238c9f-0d32-4589-ce7d-007f3abdc9b6"
      },
      "outputs": [
        {
          "output_type": "display_data",
          "data": {
            "text/plain": [
              "<IPython.core.display.HTML object>"
            ],
            "text/html": [
              "\n",
              "     <input type=\"file\" id=\"files-7319b277-82c5-49ad-a438-40f81b87e596\" name=\"files[]\" multiple disabled\n",
              "        style=\"border:none\" />\n",
              "     <output id=\"result-7319b277-82c5-49ad-a438-40f81b87e596\">\n",
              "      Upload widget is only available when the cell has been executed in the\n",
              "      current browser session. Please rerun this cell to enable.\n",
              "      </output>\n",
              "      <script>// Copyright 2017 Google LLC\n",
              "//\n",
              "// Licensed under the Apache License, Version 2.0 (the \"License\");\n",
              "// you may not use this file except in compliance with the License.\n",
              "// You may obtain a copy of the License at\n",
              "//\n",
              "//      http://www.apache.org/licenses/LICENSE-2.0\n",
              "//\n",
              "// Unless required by applicable law or agreed to in writing, software\n",
              "// distributed under the License is distributed on an \"AS IS\" BASIS,\n",
              "// WITHOUT WARRANTIES OR CONDITIONS OF ANY KIND, either express or implied.\n",
              "// See the License for the specific language governing permissions and\n",
              "// limitations under the License.\n",
              "\n",
              "/**\n",
              " * @fileoverview Helpers for google.colab Python module.\n",
              " */\n",
              "(function(scope) {\n",
              "function span(text, styleAttributes = {}) {\n",
              "  const element = document.createElement('span');\n",
              "  element.textContent = text;\n",
              "  for (const key of Object.keys(styleAttributes)) {\n",
              "    element.style[key] = styleAttributes[key];\n",
              "  }\n",
              "  return element;\n",
              "}\n",
              "\n",
              "// Max number of bytes which will be uploaded at a time.\n",
              "const MAX_PAYLOAD_SIZE = 100 * 1024;\n",
              "\n",
              "function _uploadFiles(inputId, outputId) {\n",
              "  const steps = uploadFilesStep(inputId, outputId);\n",
              "  const outputElement = document.getElementById(outputId);\n",
              "  // Cache steps on the outputElement to make it available for the next call\n",
              "  // to uploadFilesContinue from Python.\n",
              "  outputElement.steps = steps;\n",
              "\n",
              "  return _uploadFilesContinue(outputId);\n",
              "}\n",
              "\n",
              "// This is roughly an async generator (not supported in the browser yet),\n",
              "// where there are multiple asynchronous steps and the Python side is going\n",
              "// to poll for completion of each step.\n",
              "// This uses a Promise to block the python side on completion of each step,\n",
              "// then passes the result of the previous step as the input to the next step.\n",
              "function _uploadFilesContinue(outputId) {\n",
              "  const outputElement = document.getElementById(outputId);\n",
              "  const steps = outputElement.steps;\n",
              "\n",
              "  const next = steps.next(outputElement.lastPromiseValue);\n",
              "  return Promise.resolve(next.value.promise).then((value) => {\n",
              "    // Cache the last promise value to make it available to the next\n",
              "    // step of the generator.\n",
              "    outputElement.lastPromiseValue = value;\n",
              "    return next.value.response;\n",
              "  });\n",
              "}\n",
              "\n",
              "/**\n",
              " * Generator function which is called between each async step of the upload\n",
              " * process.\n",
              " * @param {string} inputId Element ID of the input file picker element.\n",
              " * @param {string} outputId Element ID of the output display.\n",
              " * @return {!Iterable<!Object>} Iterable of next steps.\n",
              " */\n",
              "function* uploadFilesStep(inputId, outputId) {\n",
              "  const inputElement = document.getElementById(inputId);\n",
              "  inputElement.disabled = false;\n",
              "\n",
              "  const outputElement = document.getElementById(outputId);\n",
              "  outputElement.innerHTML = '';\n",
              "\n",
              "  const pickedPromise = new Promise((resolve) => {\n",
              "    inputElement.addEventListener('change', (e) => {\n",
              "      resolve(e.target.files);\n",
              "    });\n",
              "  });\n",
              "\n",
              "  const cancel = document.createElement('button');\n",
              "  inputElement.parentElement.appendChild(cancel);\n",
              "  cancel.textContent = 'Cancel upload';\n",
              "  const cancelPromise = new Promise((resolve) => {\n",
              "    cancel.onclick = () => {\n",
              "      resolve(null);\n",
              "    };\n",
              "  });\n",
              "\n",
              "  // Wait for the user to pick the files.\n",
              "  const files = yield {\n",
              "    promise: Promise.race([pickedPromise, cancelPromise]),\n",
              "    response: {\n",
              "      action: 'starting',\n",
              "    }\n",
              "  };\n",
              "\n",
              "  cancel.remove();\n",
              "\n",
              "  // Disable the input element since further picks are not allowed.\n",
              "  inputElement.disabled = true;\n",
              "\n",
              "  if (!files) {\n",
              "    return {\n",
              "      response: {\n",
              "        action: 'complete',\n",
              "      }\n",
              "    };\n",
              "  }\n",
              "\n",
              "  for (const file of files) {\n",
              "    const li = document.createElement('li');\n",
              "    li.append(span(file.name, {fontWeight: 'bold'}));\n",
              "    li.append(span(\n",
              "        `(${file.type || 'n/a'}) - ${file.size} bytes, ` +\n",
              "        `last modified: ${\n",
              "            file.lastModifiedDate ? file.lastModifiedDate.toLocaleDateString() :\n",
              "                                    'n/a'} - `));\n",
              "    const percent = span('0% done');\n",
              "    li.appendChild(percent);\n",
              "\n",
              "    outputElement.appendChild(li);\n",
              "\n",
              "    const fileDataPromise = new Promise((resolve) => {\n",
              "      const reader = new FileReader();\n",
              "      reader.onload = (e) => {\n",
              "        resolve(e.target.result);\n",
              "      };\n",
              "      reader.readAsArrayBuffer(file);\n",
              "    });\n",
              "    // Wait for the data to be ready.\n",
              "    let fileData = yield {\n",
              "      promise: fileDataPromise,\n",
              "      response: {\n",
              "        action: 'continue',\n",
              "      }\n",
              "    };\n",
              "\n",
              "    // Use a chunked sending to avoid message size limits. See b/62115660.\n",
              "    let position = 0;\n",
              "    do {\n",
              "      const length = Math.min(fileData.byteLength - position, MAX_PAYLOAD_SIZE);\n",
              "      const chunk = new Uint8Array(fileData, position, length);\n",
              "      position += length;\n",
              "\n",
              "      const base64 = btoa(String.fromCharCode.apply(null, chunk));\n",
              "      yield {\n",
              "        response: {\n",
              "          action: 'append',\n",
              "          file: file.name,\n",
              "          data: base64,\n",
              "        },\n",
              "      };\n",
              "\n",
              "      let percentDone = fileData.byteLength === 0 ?\n",
              "          100 :\n",
              "          Math.round((position / fileData.byteLength) * 100);\n",
              "      percent.textContent = `${percentDone}% done`;\n",
              "\n",
              "    } while (position < fileData.byteLength);\n",
              "  }\n",
              "\n",
              "  // All done.\n",
              "  yield {\n",
              "    response: {\n",
              "      action: 'complete',\n",
              "    }\n",
              "  };\n",
              "}\n",
              "\n",
              "scope.google = scope.google || {};\n",
              "scope.google.colab = scope.google.colab || {};\n",
              "scope.google.colab._files = {\n",
              "  _uploadFiles,\n",
              "  _uploadFilesContinue,\n",
              "};\n",
              "})(self);\n",
              "</script> "
            ]
          },
          "metadata": {}
        },
        {
          "output_type": "stream",
          "name": "stdout",
          "text": [
            "Saving kaggle.json to kaggle.json\n"
          ]
        },
        {
          "output_type": "execute_result",
          "data": {
            "text/plain": [
              "{'kaggle.json': b'{\"username\":\"deeev2005\",\"key\":\"da96a327d391108056acdd3f9f03d5e6\"}'}"
            ]
          },
          "metadata": {},
          "execution_count": 6
        }
      ],
      "source": [
        "#---------- Uploading CRED ---------\n",
        "from google.colab import files\n",
        "files.upload()  # Select kaggle.json\n"
      ]
    },
    {
      "cell_type": "code",
      "source": [
        "#--------------- Installing necessary libraries -----------\n",
        "!pip install -q kaggle\n",
        "\n",
        "!mkdir -p ~/.kaggle\n",
        "!cp kaggle.json ~/.kaggle/\n",
        "!chmod 600 ~/.kaggle/kaggle.json\n"
      ],
      "metadata": {
        "id": "mOR6-sDM4D41"
      },
      "execution_count": 7,
      "outputs": []
    },
    {
      "cell_type": "code",
      "source": [
        "!kaggle datasets download -d birdy654/deep-voice-deepfake-voice-recognition\n",
        "!unzip deep-voice-deepfake-voice-recognition.zip -d deep_voice_data\n",
        "\n"
      ],
      "metadata": {
        "colab": {
          "base_uri": "https://localhost:8080/"
        },
        "id": "rxeVVm0I4NNb",
        "outputId": "70b148ab-6352-434e-d04e-bf6fc8eb39a0"
      },
      "execution_count": 8,
      "outputs": [
        {
          "output_type": "stream",
          "name": "stdout",
          "text": [
            "Dataset URL: https://www.kaggle.com/datasets/birdy654/deep-voice-deepfake-voice-recognition\n",
            "License(s): other\n",
            "Downloading deep-voice-deepfake-voice-recognition.zip to /content\n",
            " 99% 3.66G/3.69G [00:36<00:00, 146MB/s]\n",
            "100% 3.69G/3.69G [00:36<00:00, 108MB/s]\n",
            "Archive:  deep-voice-deepfake-voice-recognition.zip\n",
            "  inflating: deep_voice_data/DEMONSTRATION/DEMONSTRATION/linus-original-DEMO.mp3  \n",
            "  inflating: deep_voice_data/DEMONSTRATION/DEMONSTRATION/linus-to-musk-DEMO.mp3  \n",
            "  inflating: deep_voice_data/KAGGLE/AUDIO/FAKE/Obama-to-Biden.wav  \n",
            "  inflating: deep_voice_data/KAGGLE/AUDIO/FAKE/Obama-to-Trump.wav  \n",
            "  inflating: deep_voice_data/KAGGLE/AUDIO/FAKE/biden-to-Obama.wav  \n",
            "  inflating: deep_voice_data/KAGGLE/AUDIO/FAKE/biden-to-Trump.wav  \n",
            "  inflating: deep_voice_data/KAGGLE/AUDIO/FAKE/biden-to-linus.wav  \n",
            "  inflating: deep_voice_data/KAGGLE/AUDIO/FAKE/biden-to-margot.wav  \n",
            "  inflating: deep_voice_data/KAGGLE/AUDIO/FAKE/biden-to-musk.wav  \n",
            "  inflating: deep_voice_data/KAGGLE/AUDIO/FAKE/biden-to-ryan.wav  \n",
            "  inflating: deep_voice_data/KAGGLE/AUDIO/FAKE/biden-to-taylor.wav  \n",
            "  inflating: deep_voice_data/KAGGLE/AUDIO/FAKE/linus-to-biden.wav  \n",
            "  inflating: deep_voice_data/KAGGLE/AUDIO/FAKE/linus-to-margot.wav  \n",
            "  inflating: deep_voice_data/KAGGLE/AUDIO/FAKE/linus-to-musk.wav  \n",
            "  inflating: deep_voice_data/KAGGLE/AUDIO/FAKE/linus-to-obama.wav  \n",
            "  inflating: deep_voice_data/KAGGLE/AUDIO/FAKE/linus-to-ryan.wav  \n",
            "  inflating: deep_voice_data/KAGGLE/AUDIO/FAKE/linus-to-taylor.wav  \n",
            "  inflating: deep_voice_data/KAGGLE/AUDIO/FAKE/linus-to-trump.wav  \n",
            "  inflating: deep_voice_data/KAGGLE/AUDIO/FAKE/margot-to-biden.wav  \n",
            "  inflating: deep_voice_data/KAGGLE/AUDIO/FAKE/margot-to-linus.wav  \n",
            "  inflating: deep_voice_data/KAGGLE/AUDIO/FAKE/margot-to-musk.wav  \n",
            "  inflating: deep_voice_data/KAGGLE/AUDIO/FAKE/margot-to-obama.wav  \n",
            "  inflating: deep_voice_data/KAGGLE/AUDIO/FAKE/margot-to-ryan.wav  \n",
            "  inflating: deep_voice_data/KAGGLE/AUDIO/FAKE/margot-to-taylor.wav  \n",
            "  inflating: deep_voice_data/KAGGLE/AUDIO/FAKE/margot-to-trump.wav  \n",
            "  inflating: deep_voice_data/KAGGLE/AUDIO/FAKE/musk-to-biden.wav  \n",
            "  inflating: deep_voice_data/KAGGLE/AUDIO/FAKE/musk-to-linus.wav  \n",
            "  inflating: deep_voice_data/KAGGLE/AUDIO/FAKE/musk-to-margot.wav  \n",
            "  inflating: deep_voice_data/KAGGLE/AUDIO/FAKE/musk-to-obama.wav  \n",
            "  inflating: deep_voice_data/KAGGLE/AUDIO/FAKE/musk-to-ryan.wav  \n",
            "  inflating: deep_voice_data/KAGGLE/AUDIO/FAKE/musk-to-taylor.wav  \n",
            "  inflating: deep_voice_data/KAGGLE/AUDIO/FAKE/musk-to-trump.wav  \n",
            "  inflating: deep_voice_data/KAGGLE/AUDIO/FAKE/obama-to-linus.wav  \n",
            "  inflating: deep_voice_data/KAGGLE/AUDIO/FAKE/obama-to-margot.wav  \n",
            "  inflating: deep_voice_data/KAGGLE/AUDIO/FAKE/obama-to-musk.wav  \n",
            "  inflating: deep_voice_data/KAGGLE/AUDIO/FAKE/obama-to-ryan.wav  \n",
            "  inflating: deep_voice_data/KAGGLE/AUDIO/FAKE/obama-to-taylor.wav  \n",
            "  inflating: deep_voice_data/KAGGLE/AUDIO/FAKE/ryan-to-biden.wav  \n",
            "  inflating: deep_voice_data/KAGGLE/AUDIO/FAKE/ryan-to-linus.wav  \n",
            "  inflating: deep_voice_data/KAGGLE/AUDIO/FAKE/ryan-to-margot.wav  \n",
            "  inflating: deep_voice_data/KAGGLE/AUDIO/FAKE/ryan-to-musk.wav  \n",
            "  inflating: deep_voice_data/KAGGLE/AUDIO/FAKE/ryan-to-obama.wav  \n",
            "  inflating: deep_voice_data/KAGGLE/AUDIO/FAKE/ryan-to-taylor.wav  \n",
            "  inflating: deep_voice_data/KAGGLE/AUDIO/FAKE/ryan-to-trump.wav  \n",
            "  inflating: deep_voice_data/KAGGLE/AUDIO/FAKE/taylor-to-biden.wav  \n",
            "  inflating: deep_voice_data/KAGGLE/AUDIO/FAKE/taylor-to-linus.wav  \n",
            "  inflating: deep_voice_data/KAGGLE/AUDIO/FAKE/taylor-to-margot.wav  \n",
            "  inflating: deep_voice_data/KAGGLE/AUDIO/FAKE/taylor-to-musk.wav  \n",
            "  inflating: deep_voice_data/KAGGLE/AUDIO/FAKE/taylor-to-obama.wav  \n",
            "  inflating: deep_voice_data/KAGGLE/AUDIO/FAKE/taylor-to-ryan.wav  \n",
            "  inflating: deep_voice_data/KAGGLE/AUDIO/FAKE/taylor-to-trump.wav  \n",
            "  inflating: deep_voice_data/KAGGLE/AUDIO/FAKE/trump-to-Biden.wav  \n",
            "  inflating: deep_voice_data/KAGGLE/AUDIO/FAKE/trump-to-Obama.wav  \n",
            "  inflating: deep_voice_data/KAGGLE/AUDIO/FAKE/trump-to-linus.wav  \n",
            "  inflating: deep_voice_data/KAGGLE/AUDIO/FAKE/trump-to-margot.wav  \n",
            "  inflating: deep_voice_data/KAGGLE/AUDIO/FAKE/trump-to-musk.wav  \n",
            "  inflating: deep_voice_data/KAGGLE/AUDIO/FAKE/trump-to-ryan.wav  \n",
            "  inflating: deep_voice_data/KAGGLE/AUDIO/FAKE/trump-to-taylor.wav  \n",
            "  inflating: deep_voice_data/KAGGLE/AUDIO/REAL/biden-original.wav  \n",
            "  inflating: deep_voice_data/KAGGLE/AUDIO/REAL/linus-original.wav  \n",
            "  inflating: deep_voice_data/KAGGLE/AUDIO/REAL/margot-original.wav  \n",
            "  inflating: deep_voice_data/KAGGLE/AUDIO/REAL/musk-original.wav  \n",
            "  inflating: deep_voice_data/KAGGLE/AUDIO/REAL/obama-original.wav  \n",
            "  inflating: deep_voice_data/KAGGLE/AUDIO/REAL/ryan-original.wav  \n",
            "  inflating: deep_voice_data/KAGGLE/AUDIO/REAL/taylor-original.wav  \n",
            "  inflating: deep_voice_data/KAGGLE/AUDIO/REAL/trump-original.wav  \n",
            "  inflating: deep_voice_data/KAGGLE/DATASET-balanced.csv  \n"
          ]
        }
      ]
    },
    {
      "cell_type": "code",
      "source": [
        "#---------- Importing ---------\n",
        "import os\n",
        "import librosa\n",
        "import librosa.display\n",
        "import matplotlib.pyplot as plt\n",
        "import numpy as np\n",
        "from pathlib import Path\n",
        "from tqdm import tqdm\n"
      ],
      "metadata": {
        "id": "noGWPj546lw9"
      },
      "execution_count": 9,
      "outputs": []
    },
    {
      "cell_type": "code",
      "source": [
        "#--------------- loading dataset from kaggle ---------\n",
        "real_dir = 'deep_voice_data/KAGGLE/AUDIO/REAL'\n",
        "fake_dir = 'deep_voice_data/KAGGLE/AUDIO/FAKE'\n",
        "\n",
        "\n",
        "output_dir = 'mel_spectrograms'\n",
        "os.makedirs(f\"{output_dir}/real\", exist_ok=True)\n",
        "os.makedirs(f\"{output_dir}/fake\", exist_ok=True)\n"
      ],
      "metadata": {
        "id": "fTV5-v7F6n1s"
      },
      "execution_count": 10,
      "outputs": []
    },
    {
      "cell_type": "code",
      "source": [
        "#----------- Converting audio files in spectogram imsges function -----------\n",
        "def create_mel_spectrogram(audio_path, output_path, sr=22050, n_mels=128):\n",
        "    try:\n",
        "        y, sr = librosa.load(audio_path, sr=sr)\n",
        "        mel_spec = librosa.feature.melspectrogram(y=y, sr=sr, n_mels=n_mels)\n",
        "        mel_db = librosa.power_to_db(mel_spec, ref=np.max)\n",
        "\n",
        "        plt.figure(figsize=(3, 3))\n",
        "        librosa.display.specshow(mel_db, sr=sr, cmap='magma')\n",
        "        plt.axis('off')\n",
        "        plt.tight_layout()\n",
        "        plt.savefig(output_path, bbox_inches='tight', pad_inches=0)\n",
        "        plt.close()\n",
        "    except Exception as e:\n",
        "        print(f\"Error processing {audio_path}: {e}\")\n"
      ],
      "metadata": {
        "id": "n7vJAo9w6r3s"
      },
      "execution_count": 11,
      "outputs": []
    },
    {
      "cell_type": "code",
      "source": [
        "def process_folder(input_folder, output_folder):\n",
        "    for filename in tqdm(os.listdir(input_folder)):\n",
        "        if filename.endswith(\".wav\"):\n",
        "            input_path = os.path.join(input_folder, filename)\n",
        "            output_path = os.path.join(output_folder, filename.replace(\".wav\", \".png\"))\n",
        "            create_mel_spectrogram(input_path, output_path)\n",
        "\n",
        "process_folder(real_dir, f\"{output_dir}/real\")\n",
        "process_folder(fake_dir, f\"{output_dir}/fake\")\n"
      ],
      "metadata": {
        "colab": {
          "base_uri": "https://localhost:8080/"
        },
        "id": "B9pCqQj-6zVj",
        "outputId": "82bab937-226c-4356-b72a-2db5858e3839"
      },
      "execution_count": 12,
      "outputs": [
        {
          "output_type": "stream",
          "name": "stderr",
          "text": [
            "100%|██████████| 8/8 [01:09<00:00,  8.64s/it]\n",
            "100%|██████████| 56/56 [05:13<00:00,  5.61s/it]\n"
          ]
        }
      ]
    },
    {
      "cell_type": "code",
      "source": [
        "import torch\n",
        "import torch.nn as nn\n",
        "import torch.optim as optim\n",
        "from torchvision import datasets, transforms, models\n",
        "from torch.utils.data import DataLoader\n",
        "import matplotlib.pyplot as plt\n"
      ],
      "metadata": {
        "id": "81gNZjX-_Phd"
      },
      "execution_count": 13,
      "outputs": []
    },
    {
      "cell_type": "code",
      "source": [
        "data_dir = 'mel_spectrograms'\n",
        "\n",
        "transform = transforms.Compose([\n",
        "    transforms.Resize((128, 128)),\n",
        "    transforms.ToTensor(),\n",
        "])\n"
      ],
      "metadata": {
        "id": "aKk18aXWAicl"
      },
      "execution_count": 14,
      "outputs": []
    },
    {
      "cell_type": "code",
      "source": [
        "#------------ Binary classification ----------\n",
        "batch_size = 32\n",
        "\n",
        "train_dataset = datasets.ImageFolder(root=data_dir, transform=transform)\n",
        "train_loader = DataLoader(train_dataset, batch_size=batch_size, shuffle=True)\n",
        "\n",
        "class_names = train_dataset.classes  # ['fake', 'real']\n",
        "print(\"Classes:\", class_names)\n"
      ],
      "metadata": {
        "colab": {
          "base_uri": "https://localhost:8080/"
        },
        "id": "OIT1E1eFBUNE",
        "outputId": "da304c29-60cd-48d1-acec-c06213417a53"
      },
      "execution_count": 15,
      "outputs": [
        {
          "output_type": "stream",
          "name": "stdout",
          "text": [
            "Classes: ['fake', 'real']\n"
          ]
        }
      ]
    },
    {
      "cell_type": "code",
      "source": [
        "from torchvision import models\n",
        "import torch.nn as nn\n",
        "\n",
        "# Load pretrained ResNet-50\n",
        "resnet50 = models.resnet50(pretrained=True)\n",
        "\n",
        "# Freeze early layers (optional)\n",
        "for param in resnet50.parameters():\n",
        "    param.requires_grad = False\n",
        "\n",
        "# Replace the final fully connected layer\n",
        "num_features = resnet50.fc.in_features\n",
        "resnet50.fc = nn.Linear(num_features, 2)  # Binary classification\n",
        "\n",
        "# Move to device (GPU if available) for faster computing\n",
        "device = torch.device(\"cuda\" if torch.cuda.is_available() else \"cpu\")\n",
        "model = resnet50.to(device)\n"
      ],
      "metadata": {
        "colab": {
          "base_uri": "https://localhost:8080/"
        },
        "id": "T3O_2QJcBX3M",
        "outputId": "f22f9659-7994-4444-b035-347f4dd39002"
      },
      "execution_count": 16,
      "outputs": [
        {
          "output_type": "stream",
          "name": "stderr",
          "text": [
            "/usr/local/lib/python3.11/dist-packages/torchvision/models/_utils.py:208: UserWarning: The parameter 'pretrained' is deprecated since 0.13 and may be removed in the future, please use 'weights' instead.\n",
            "  warnings.warn(\n",
            "/usr/local/lib/python3.11/dist-packages/torchvision/models/_utils.py:223: UserWarning: Arguments other than a weight enum or `None` for 'weights' are deprecated since 0.13 and may be removed in the future. The current behavior is equivalent to passing `weights=ResNet50_Weights.IMAGENET1K_V1`. You can also use `weights=ResNet50_Weights.DEFAULT` to get the most up-to-date weights.\n",
            "  warnings.warn(msg)\n",
            "Downloading: \"https://download.pytorch.org/models/resnet50-0676ba61.pth\" to /root/.cache/torch/hub/checkpoints/resnet50-0676ba61.pth\n",
            "100%|██████████| 97.8M/97.8M [00:00<00:00, 149MB/s]\n"
          ]
        }
      ]
    },
    {
      "cell_type": "code",
      "source": [
        "#------------parameterizing ------------\n",
        "import torch.optim as optim\n",
        "\n",
        "criterion = nn.CrossEntropyLoss()\n",
        "optimizer = optim.Adam(model.parameters(), lr=1e-4)\n"
      ],
      "metadata": {
        "id": "Xcv3JSdRCsdN"
      },
      "execution_count": 17,
      "outputs": []
    },
    {
      "cell_type": "code",
      "source": [
        "num_epochs = 10\n",
        "\n",
        "for epoch in range(num_epochs):\n",
        "    model.train()\n",
        "    running_loss = 0.0\n",
        "    correct, total = 0, 0\n",
        "\n",
        "    for inputs, labels in train_loader:\n",
        "        inputs, labels = inputs.to(device), labels.to(device)\n",
        "\n",
        "        optimizer.zero_grad()\n",
        "        outputs = model(inputs)\n",
        "        loss = criterion(outputs, labels)\n",
        "        loss.backward()\n",
        "        optimizer.step()\n",
        "\n",
        "        running_loss += loss.item()\n",
        "        _, predicted = torch.max(outputs, 1)\n",
        "        total += labels.size(0)\n",
        "        correct += (predicted == labels).sum().item()\n",
        "\n",
        "    acc = 100 * correct / total\n",
        "    print(f\"Epoch {epoch+1}/{num_epochs} | Loss: {running_loss/len(train_loader):.4f} | Accuracy: {acc:.2f}%\")\n"
      ],
      "metadata": {
        "colab": {
          "base_uri": "https://localhost:8080/"
        },
        "id": "0a9Ir-vrDdTt",
        "outputId": "21599ead-3a90-4fea-f97d-6c685c535021"
      },
      "execution_count": 18,
      "outputs": [
        {
          "output_type": "stream",
          "name": "stdout",
          "text": [
            "Epoch 1/10 | Loss: 0.7618 | Accuracy: 39.06%\n",
            "Epoch 2/10 | Loss: 0.6498 | Accuracy: 60.94%\n",
            "Epoch 3/10 | Loss: 0.5731 | Accuracy: 82.81%\n",
            "Epoch 4/10 | Loss: 0.5103 | Accuracy: 85.94%\n",
            "Epoch 5/10 | Loss: 0.4654 | Accuracy: 87.50%\n",
            "Epoch 6/10 | Loss: 0.4553 | Accuracy: 87.50%\n",
            "Epoch 7/10 | Loss: 0.4370 | Accuracy: 87.50%\n",
            "Epoch 8/10 | Loss: 0.4388 | Accuracy: 87.50%\n",
            "Epoch 9/10 | Loss: 0.4294 | Accuracy: 87.50%\n",
            "Epoch 10/10 | Loss: 0.4397 | Accuracy: 87.50%\n"
          ]
        }
      ]
    },
    {
      "cell_type": "code",
      "source": [],
      "metadata": {
        "id": "ZTymaeDXEhbH"
      },
      "execution_count": 18,
      "outputs": []
    }
  ]
}